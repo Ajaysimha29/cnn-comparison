{
  "nbformat": 4,
  "nbformat_minor": 0,
  "metadata": {
    "colab": {
      "provenance": []
    },
    "kernelspec": {
      "name": "python3",
      "display_name": "Python 3"
    },
    "language_info": {
      "name": "python"
    }
  },
  "cells": [
    {
      "cell_type": "code",
      "source": [
        "import tensorflow as tf\n",
        "from tensorflow.keras.models import Sequential\n",
        "from tensorflow.keras.layers import Conv2D, MaxPooling2D, Flatten, Dense, Dropout\n",
        "from tensorflow.keras.optimizers import Adam\n"
      ],
      "metadata": {
        "id": "V7364Lgnnw_Z"
      },
      "execution_count": 1,
      "outputs": []
    },
    {
      "cell_type": "markdown",
      "source": [
        "Importing the necessary libraries for the model and layers for the neural networks and optimizer is adam"
      ],
      "metadata": {
        "id": "8yRF3eYgrFj_"
      }
    },
    {
      "cell_type": "code",
      "source": [
        "\n",
        "\n",
        "(p_train, q_train), (p_test, q_test) = tf.keras.datasets.cifar10.load_data()\n",
        "\n",
        "p_train, p_test = p_train / 255.0, p_test / 255.0"
      ],
      "metadata": {
        "id": "qNN_vwByn7P1",
        "colab": {
          "base_uri": "https://localhost:8080/"
        },
        "outputId": "37b2e3a6-9985-4f28-9465-af72caec8888"
      },
      "execution_count": 2,
      "outputs": [
        {
          "output_type": "stream",
          "name": "stdout",
          "text": [
            "Downloading data from https://www.cs.toronto.edu/~kriz/cifar-10-python.tar.gz\n",
            "170498071/170498071 [==============================] - 3s 0us/step\n"
          ]
        }
      ]
    },
    {
      "cell_type": "markdown",
      "source": [
        "Im loading the CIFAR-10 dataset using the tensor flow and dataset has 6000 image per class and the total is 60000 32x32 color image in 10 classes\n",
        "next split the dataset into training and testing sets and x_train conatins traing images and y_train training labels and each pixel is dived in to 255.0 and the scales the pixel value in range of [0,1].\n"
      ],
      "metadata": {
        "id": "pRpK3EcErZT9"
      }
    },
    {
      "cell_type": "code",
      "source": [
        "M = Sequential([\n",
        "    Conv2D(32, (3, 3), activation='relu', input_shape=(32, 32, 3)),\n",
        "    MaxPooling2D((2, 2)),\n",
        "    Conv2D(64, (3, 3), activation='relu'),\n",
        "    MaxPooling2D((2, 2)),\n",
        "    Conv2D(64, (3, 3), activation='relu'),\n",
        "    Flatten(),\n",
        "    Dense(64, activation='relu'),\n",
        "    Dense(10, activation='softmax')\n",
        "])\n"
      ],
      "metadata": {
        "id": "w4RdcaP0n_gN"
      },
      "execution_count": 3,
      "outputs": []
    },
    {
      "cell_type": "markdown",
      "source": [
        "the above is my model for the image clsssification and it is a cnn model which is convoulution and maxpooling and flatten and dense layer.\n",
        "the convolution means combiming and the dot product of image and filter we get feature map and max pooling will take the main values from the feature map and then flatten is for dimentionality reduction."
      ],
      "metadata": {
        "id": "H9_stv3FsVlg"
      }
    },
    {
      "cell_type": "code",
      "source": [
        "M.summary()"
      ],
      "metadata": {
        "colab": {
          "base_uri": "https://localhost:8080/"
        },
        "id": "1U4E0tAPtJd9",
        "outputId": "ff4954ec-329c-43c5-da95-c014489dbbdd"
      },
      "execution_count": 4,
      "outputs": [
        {
          "output_type": "stream",
          "name": "stdout",
          "text": [
            "Model: \"sequential\"\n",
            "_________________________________________________________________\n",
            " Layer (type)                Output Shape              Param #   \n",
            "=================================================================\n",
            " conv2d (Conv2D)             (None, 30, 30, 32)        896       \n",
            "                                                                 \n",
            " max_pooling2d (MaxPooling2  (None, 15, 15, 32)        0         \n",
            " D)                                                              \n",
            "                                                                 \n",
            " conv2d_1 (Conv2D)           (None, 13, 13, 64)        18496     \n",
            "                                                                 \n",
            " max_pooling2d_1 (MaxPoolin  (None, 6, 6, 64)          0         \n",
            " g2D)                                                            \n",
            "                                                                 \n",
            " conv2d_2 (Conv2D)           (None, 4, 4, 64)          36928     \n",
            "                                                                 \n",
            " flatten (Flatten)           (None, 1024)              0         \n",
            "                                                                 \n",
            " dense (Dense)               (None, 64)                65600     \n",
            "                                                                 \n",
            " dense_1 (Dense)             (None, 10)                650       \n",
            "                                                                 \n",
            "=================================================================\n",
            "Total params: 122570 (478.79 KB)\n",
            "Trainable params: 122570 (478.79 KB)\n",
            "Non-trainable params: 0 (0.00 Byte)\n",
            "_________________________________________________________________\n"
          ]
        }
      ]
    },
    {
      "cell_type": "markdown",
      "source": [
        "the above is the model summary for the image classification i used."
      ],
      "metadata": {
        "id": "f1-z1Xi-tLui"
      }
    },
    {
      "cell_type": "code",
      "source": [
        "M.compile(optimizer=Adam(learning_rate=0.001),\n",
        "              loss='sparse_categorical_crossentropy',\n",
        "              metrics=['accuracy'])"
      ],
      "metadata": {
        "id": "YaxOXckEoB07"
      },
      "execution_count": 5,
      "outputs": []
    },
    {
      "cell_type": "markdown",
      "source": [
        "Im using the Adam optimizer for the model and the learning rate is\n",
        "0.001\n",
        "the loss is sparse_categorical_crossentropy and it will caculate the loss between true and predicted probabilities.\n",
        "metrics is accuracy."
      ],
      "metadata": {
        "id": "qbXcfVU9tpM3"
      }
    },
    {
      "cell_type": "code",
      "execution_count": 6,
      "metadata": {
        "colab": {
          "base_uri": "https://localhost:8080/"
        },
        "id": "Nt8MP6Ksnudu",
        "outputId": "78859f4e-b18d-484b-8055-0b159a849a19"
      },
      "outputs": [
        {
          "output_type": "stream",
          "name": "stdout",
          "text": [
            "Epoch 1/20\n",
            "1250/1250 [==============================] - 53s 41ms/step - loss: 1.6105 - accuracy: 0.4032 - val_loss: 1.3194 - val_accuracy: 0.5189\n",
            "Epoch 2/20\n",
            "1250/1250 [==============================] - 51s 40ms/step - loss: 1.2398 - accuracy: 0.5551 - val_loss: 1.1532 - val_accuracy: 0.5946\n",
            "Epoch 3/20\n",
            "1250/1250 [==============================] - 51s 41ms/step - loss: 1.0799 - accuracy: 0.6172 - val_loss: 1.1231 - val_accuracy: 0.6121\n",
            "Epoch 4/20\n",
            "1250/1250 [==============================] - 50s 40ms/step - loss: 0.9855 - accuracy: 0.6539 - val_loss: 0.9863 - val_accuracy: 0.6544\n",
            "Epoch 5/20\n",
            "1250/1250 [==============================] - 51s 41ms/step - loss: 0.9053 - accuracy: 0.6836 - val_loss: 0.9482 - val_accuracy: 0.6683\n",
            "Epoch 6/20\n",
            "1250/1250 [==============================] - 49s 39ms/step - loss: 0.8455 - accuracy: 0.7045 - val_loss: 0.9172 - val_accuracy: 0.6829\n",
            "Epoch 7/20\n",
            "1250/1250 [==============================] - 49s 39ms/step - loss: 0.7981 - accuracy: 0.7190 - val_loss: 0.9741 - val_accuracy: 0.6677\n",
            "Epoch 8/20\n",
            "1250/1250 [==============================] - 52s 42ms/step - loss: 0.7590 - accuracy: 0.7310 - val_loss: 0.8757 - val_accuracy: 0.7037\n",
            "Epoch 9/20\n",
            "1250/1250 [==============================] - 52s 42ms/step - loss: 0.7132 - accuracy: 0.7478 - val_loss: 0.9157 - val_accuracy: 0.6891\n",
            "Epoch 10/20\n",
            "1250/1250 [==============================] - 52s 41ms/step - loss: 0.6761 - accuracy: 0.7629 - val_loss: 0.8685 - val_accuracy: 0.7087\n",
            "Epoch 11/20\n",
            "1250/1250 [==============================] - 50s 40ms/step - loss: 0.6412 - accuracy: 0.7733 - val_loss: 0.8684 - val_accuracy: 0.7118\n",
            "Epoch 12/20\n",
            "1250/1250 [==============================] - 59s 47ms/step - loss: 0.6063 - accuracy: 0.7879 - val_loss: 0.9162 - val_accuracy: 0.7014\n",
            "Epoch 13/20\n",
            "1250/1250 [==============================] - 51s 41ms/step - loss: 0.5803 - accuracy: 0.7956 - val_loss: 0.9097 - val_accuracy: 0.7050\n",
            "Epoch 14/20\n",
            "1250/1250 [==============================] - 50s 40ms/step - loss: 0.5505 - accuracy: 0.8074 - val_loss: 0.9717 - val_accuracy: 0.6923\n",
            "Epoch 15/20\n",
            "1250/1250 [==============================] - 49s 39ms/step - loss: 0.5208 - accuracy: 0.8155 - val_loss: 1.0203 - val_accuracy: 0.6941\n",
            "Epoch 16/20\n",
            "1250/1250 [==============================] - 49s 39ms/step - loss: 0.4977 - accuracy: 0.8238 - val_loss: 0.9679 - val_accuracy: 0.7026\n",
            "Epoch 17/20\n",
            "1250/1250 [==============================] - 49s 39ms/step - loss: 0.4694 - accuracy: 0.8312 - val_loss: 0.9691 - val_accuracy: 0.7036\n",
            "Epoch 18/20\n",
            "1250/1250 [==============================] - 54s 43ms/step - loss: 0.4475 - accuracy: 0.8415 - val_loss: 1.0426 - val_accuracy: 0.6978\n",
            "Epoch 19/20\n",
            "1250/1250 [==============================] - 50s 40ms/step - loss: 0.4282 - accuracy: 0.8479 - val_loss: 1.0626 - val_accuracy: 0.6941\n",
            "Epoch 20/20\n",
            "1250/1250 [==============================] - 50s 40ms/step - loss: 0.3995 - accuracy: 0.8597 - val_loss: 1.0805 - val_accuracy: 0.7055\n"
          ]
        },
        {
          "output_type": "stream",
          "name": "stderr",
          "text": [
            "/usr/local/lib/python3.10/dist-packages/keras/src/engine/training.py:3103: UserWarning: You are saving your model as an HDF5 file via `model.save()`. This file format is considered legacy. We recommend using instead the native Keras format, e.g. `model.save('my_model.keras')`.\n",
            "  saving_api.save_model(\n"
          ]
        }
      ],
      "source": [
        "\n",
        "\n",
        "history = M.fit(p_train, q_train, epochs=20, validation_split=0.2)\n",
        "\n",
        "\n",
        "M.save('MMM.h5')\n"
      ]
    },
    {
      "cell_type": "markdown",
      "source": [
        "\n",
        "\n",
        "To train the model i took 20 epochs and then i saved the model to predict the given image ."
      ],
      "metadata": {
        "id": "77Jugd5oxnyG"
      }
    },
    {
      "cell_type": "code",
      "source": [
        "\n",
        "test_loss, test_acc = M.evaluate(p_test, q_test, verbose=2)\n",
        "\n",
        "print(f\"Test accuracy: {test_acc}, Test loss: {test_loss}\")\n"
      ],
      "metadata": {
        "colab": {
          "base_uri": "https://localhost:8080/"
        },
        "id": "vQfCzcW7pE6d",
        "outputId": "dbf4f9fe-db05-4855-a1de-b3f1022ff44f"
      },
      "execution_count": 7,
      "outputs": [
        {
          "output_type": "stream",
          "name": "stdout",
          "text": [
            "313/313 - 5s - loss: 1.1252 - accuracy: 0.6933 - 5s/epoch - 16ms/step\n",
            "Test accuracy: 0.6933000087738037, Test loss: 1.1252238750457764\n"
          ]
        }
      ]
    },
    {
      "cell_type": "markdown",
      "source": [
        "**Visulization**"
      ],
      "metadata": {
        "id": "g6MVg3JQ2Bzk"
      }
    },
    {
      "cell_type": "code",
      "source": [
        "import matplotlib.pyplot as plt_7\n",
        "\n",
        "plt_7.plot(history.history['accuracy'])\n",
        "plt_7.plot(history.history['val_accuracy'])\n",
        "plt_7.title('Model accuracy')\n",
        "plt_7.ylabel('Accuracy')\n",
        "plt_7.xlabel('Epoch')\n",
        "plt_7.legend(['Train', 'Validation'], loc='upper left')\n",
        "plt_7.show()\n",
        "\n",
        "\n"
      ],
      "metadata": {
        "colab": {
          "base_uri": "https://localhost:8080/",
          "height": 472
        },
        "id": "zXPbW3IvpJj2",
        "outputId": "03caaa23-ed8d-4099-d92e-d4d3cb47187e"
      },
      "execution_count": 8,
      "outputs": [
        {
          "output_type": "display_data",
          "data": {
            "text/plain": [
              "<Figure size 640x480 with 1 Axes>"
            ],
            "image/png": "[encoded data removed]"
          },
          "metadata": {}
        }
      ]
    },
    {
      "cell_type": "code",
      "source": [
        "plt_7.plot(history.history['loss'])\n",
        "plt_7.plot(history.history['val_loss'])\n",
        "plt_7.title('Model loss')\n",
        "plt_7.ylabel('Loss')\n",
        "plt_7.xlabel('Epoch')\n",
        "plt_7.legend(['Train', 'Validation'], loc='upper left')\n",
        "plt_7.show()"
      ],
      "metadata": {
        "colab": {
          "base_uri": "https://localhost:8080/",
          "height": 472
        },
        "id": "2C8rUaXX2Uei",
        "outputId": "94477733-ebca-4a3c-fd8c-3061bc74c3b7"
      },
      "execution_count": 9,
      "outputs": [
        {
          "output_type": "display_data",
          "data": {
            "text/plain": [
              "<Figure size 640x480 with 1 Axes>"
            ],
            "image/png": "[encoded data removed]"
          },
          "metadata": {}
        }
      ]
    },
    {
      "cell_type": "markdown",
      "source": [
        "**Prediction**"
      ],
      "metadata": {
        "id": "vgIYVIBm-BYG"
      }
    },
    {
      "cell_type": "code",
      "source": [
        "import numpy as np\n",
        "from tensorflow.keras.models import load_model\n",
        "from tensorflow.keras.preprocessing import image\n"
      ],
      "metadata": {
        "id": "CV3SBAvHq0aY"
      },
      "execution_count": 10,
      "outputs": []
    },
    {
      "cell_type": "code",
      "source": [
        "model = load_model('MMM.h5')"
      ],
      "metadata": {
        "id": "YSC_CsiQq2JM"
      },
      "execution_count": 11,
      "outputs": []
    },
    {
      "cell_type": "code",
      "source": [
        "\n",
        "def predict_image(img_path):\n",
        "\n",
        "    img = image.load_img(img_path, target_size=(32, 32))\n",
        "\n",
        "    img_array = image.img_to_array(img)\n",
        "\n",
        "\n",
        "    img_array = np.expand_dims(img_array, axis=0)\n",
        "\n",
        "\n",
        "    img_array /= 255.0\n",
        "\n",
        "\n",
        "    predictions = model.predict(img_array)\n",
        "\n",
        "\n",
        "    predicted_class = np.argmax(predictions, axis=1)\n",
        "\n",
        "    class_labels = ['Airplane', 'Automobile', 'Bird', 'Cat', 'Deer', 'Dog', 'Frog', 'Horse', 'Ship', 'Truck']\n",
        "\n",
        "    return class_labels[predicted_class[0]]\n",
        "\n"
      ],
      "metadata": {
        "id": "YtT-9PaTqN5E"
      },
      "execution_count": 12,
      "outputs": []
    },
    {
      "cell_type": "code",
      "source": [
        "image_path = '/content/R.jpeg'\n",
        "predicted_class = predict_image(image_path)\n",
        "print(f\"The image is {predicted_class}.\")\n"
      ],
      "metadata": {
        "colab": {
          "base_uri": "https://localhost:8080/"
        },
        "id": "1SEWY19Hq_1H",
        "outputId": "e7d7d4f9-fea3-4cf0-81b1-c1720958c774"
      },
      "execution_count": 17,
      "outputs": [
        {
          "output_type": "stream",
          "name": "stdout",
          "text": [
            "1/1 [==============================] - 0s 115ms/step\n",
            "The image is Truck.\n"
          ]
        }
      ]
    },
    {
      "cell_type": "markdown",
      "source": [
        "Hyper parameter model"
      ],
      "metadata": {
        "id": "ZqDCB5abYC0L"
      }
    },
    {
      "cell_type": "code",
      "source": [
        "!pip install keras-tuner\n"
      ],
      "metadata": {
        "colab": {
          "base_uri": "https://localhost:8080/"
        },
        "id": "J_kHB7NOYBvx",
        "outputId": "e4ef15bb-74d4-4a1e-adc3-2e7844b00aec"
      },
      "execution_count": 18,
      "outputs": [
        {
          "output_type": "stream",
          "name": "stdout",
          "text": [
            "Collecting keras-tuner\n",
            "  Downloading keras_tuner-1.4.7-py3-none-any.whl (129 kB)\n",
            "\u001b[?25l     \u001b[90m━━━━━━━━━━━━━━━━━━━━━━━━━━━━━━━━━━━━━━━━\u001b[0m \u001b[32m0.0/129.1 kB\u001b[0m \u001b[31m?\u001b[0m eta \u001b[36m-:--:--\u001b[0m\r\u001b[2K     \u001b[91m━━━━━━━━━━━━━━━━━━━━━━━━━━━━\u001b[0m\u001b[91m╸\u001b[0m\u001b[90m━━━━━━━━━━━\u001b[0m \u001b[32m92.2/129.1 kB\u001b[0m \u001b[31m2.6 MB/s\u001b[0m eta \u001b[36m0:00:01\u001b[0m\r\u001b[2K     \u001b[90m━━━━━━━━━━━━━━━━━━━━━━━━━━━━━━━━━━━━━━━━\u001b[0m \u001b[32m129.1/129.1 kB\u001b[0m \u001b[31m2.8 MB/s\u001b[0m eta \u001b[36m0:00:00\u001b[0m\n",
            "\u001b[?25hRequirement already satisfied: keras in /usr/local/lib/python3.10/dist-packages (from keras-tuner) (2.15.0)\n",
            "Requirement already satisfied: packaging in /usr/local/lib/python3.10/dist-packages (from keras-tuner) (24.0)\n",
            "Requirement already satisfied: requests in /usr/local/lib/python3.10/dist-packages (from keras-tuner) (2.31.0)\n",
            "Collecting kt-legacy (from keras-tuner)\n",
            "  Downloading kt_legacy-1.0.5-py3-none-any.whl (9.6 kB)\n",
            "Requirement already satisfied: charset-normalizer<4,>=2 in /usr/local/lib/python3.10/dist-packages (from requests->keras-tuner) (3.3.2)\n",
            "Requirement already satisfied: idna<4,>=2.5 in /usr/local/lib/python3.10/dist-packages (from requests->keras-tuner) (3.6)\n",
            "Requirement already satisfied: urllib3<3,>=1.21.1 in /usr/local/lib/python3.10/dist-packages (from requests->keras-tuner) (2.0.7)\n",
            "Requirement already satisfied: certifi>=2017.4.17 in /usr/local/lib/python3.10/dist-packages (from requests->keras-tuner) (2024.2.2)\n",
            "Installing collected packages: kt-legacy, keras-tuner\n",
            "Successfully installed keras-tuner-1.4.7 kt-legacy-1.0.5\n"
          ]
        }
      ]
    },
    {
      "cell_type": "code",
      "source": [
        "import tensorflow as tf\n",
        "from tensorflow.keras.models import Sequential\n",
        "from tensorflow.keras.layers import Conv2D, MaxPooling2D, Flatten, Dense, Dropout\n",
        "from tensorflow.keras.optimizers import Adam\n",
        "from kerastuner.tuners import RandomSearch"
      ],
      "metadata": {
        "colab": {
          "base_uri": "https://localhost:8080/"
        },
        "id": "awlaFLIPYJiA",
        "outputId": "e8dd7a3b-388f-4408-c557-77377bdd87f0"
      },
      "execution_count": 19,
      "outputs": [
        {
          "output_type": "stream",
          "name": "stderr",
          "text": [
            "<ipython-input-19-8d1ff120c7cc>:5: DeprecationWarning: `import kerastuner` is deprecated, please use `import keras_tuner`.\n",
            "  from kerastuner.tuners import RandomSearch\n"
          ]
        }
      ]
    },
    {
      "cell_type": "code",
      "source": [
        "\n",
        "\n",
        "def build_model(hp):\n",
        "    model = Sequential([\n",
        "        Conv2D(\n",
        "            filters=hp.Int('conv_1_filter', min_value=32, max_value=128, step=16),\n",
        "            kernel_size=hp.Choice('conv_1_kernel', values=[3, 5]),\n",
        "            activation='relu',\n",
        "            input_shape=(32, 32, 3)\n",
        "        ),\n",
        "        MaxPooling2D((2, 2)),\n",
        "        Conv2D(\n",
        "            filters=hp.Int('conv_2_filter', min_value=32, max_value=128, step=16),\n",
        "            kernel_size=hp.Choice('conv_2_kernel', values=[3, 5]),\n",
        "            activation='relu'\n",
        "        ),\n",
        "        MaxPooling2D((2, 2)),\n",
        "        Conv2D(\n",
        "            filters=hp.Int('conv_3_filter', min_value=32, max_value=128, step=16),\n",
        "            kernel_size=hp.Choice('conv_3_kernel', values=[3, 5]),\n",
        "            activation='relu'\n",
        "        ),\n",
        "        Flatten(),\n",
        "        Dense(\n",
        "            units=hp.Int('dense_units', min_value=32, max_value=128, step=32),\n",
        "            activation='relu'\n",
        "        ),\n",
        "        Dense(10, activation='softmax')\n",
        "    ])\n",
        "\n",
        "    model.compile(\n",
        "        optimizer=Adam(hp.Choice('learning_rate', values=[1e-2, 1e-3, 1e-4])),\n",
        "        loss='sparse_categorical_crossentropy',\n",
        "        metrics=['accuracy']\n",
        "    )\n",
        "\n",
        "    return model\n"
      ],
      "metadata": {
        "id": "dF-t2oEJYGiT"
      },
      "execution_count": 20,
      "outputs": []
    },
    {
      "cell_type": "code",
      "source": [
        "(p_train, q_train), (p_test, q_test) = tf.keras.datasets.cifar10.load_data()\n",
        "p_train, p_test = p_train / 255.0, p_test / 255.0"
      ],
      "metadata": {
        "id": "4jJrpBaKYQRH"
      },
      "execution_count": 21,
      "outputs": []
    },
    {
      "cell_type": "code",
      "source": [
        "\n",
        "tuner = RandomSearch(\n",
        "    build_model,\n",
        "    objective='val_accuracy',\n",
        "    max_trials=1,\n",
        "    executions_per_trial=1,\n",
        "    directory='model_tuning',\n",
        "    project_name='CIFAR10'\n",
        ")\n",
        "tuner.search(p_train, q_train, epochs=10, validation_split=0.2)\n"
      ],
      "metadata": {
        "colab": {
          "base_uri": "https://localhost:8080/"
        },
        "id": "3H2tLSPHYPOD",
        "outputId": "1faa6bf1-a787-4b98-ab3b-03cba7b02fbc"
      },
      "execution_count": 23,
      "outputs": [
        {
          "output_type": "stream",
          "name": "stdout",
          "text": [
            "Trial 2 Complete [00h 40m 26s]\n",
            "val_accuracy: 0.675000011920929\n",
            "\n",
            "Best val_accuracy So Far: 0.7008000016212463\n",
            "Total elapsed time: 00h 54m 29s\n"
          ]
        }
      ]
    },
    {
      "cell_type": "code",
      "source": [
        "best_model = tuner.get_best_models(num_models=1)[0]"
      ],
      "metadata": {
        "id": "cQNNJLs7YWiM"
      },
      "execution_count": 24,
      "outputs": []
    },
    {
      "cell_type": "code",
      "source": [
        "test_loss, test_acc = best_model.evaluate(p_test, q_test, verbose=2)\n",
        "print(f\"Test accuracy: {test_acc}, Test loss: {test_loss}\")"
      ],
      "metadata": {
        "colab": {
          "base_uri": "https://localhost:8080/"
        },
        "id": "rkrK1IFUYX6B",
        "outputId": "b1aeadf3-3dcf-4431-f8ad-3a109f017e9f"
      },
      "execution_count": 25,
      "outputs": [
        {
          "output_type": "stream",
          "name": "stdout",
          "text": [
            "313/313 - 4s - loss: 0.9126 - accuracy: 0.7028 - 4s/epoch - 13ms/step\n",
            "Test accuracy: 0.7027999758720398, Test loss: 0.9126273393630981\n"
          ]
        }
      ]
    }
  ]
}